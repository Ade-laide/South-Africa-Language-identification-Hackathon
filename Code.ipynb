{
 "cells": [
  {
   "cell_type": "markdown",
   "id": "fd9cd3b9",
   "metadata": {},
   "source": [
    "#                     South African Language Identification Hack 2022"
   ]
  },
  {
   "cell_type": "markdown",
   "id": "17513ddf",
   "metadata": {},
   "source": [
    "## Description of data set"
   ]
  },
  {
   "cell_type": "markdown",
   "id": "1c07daa6",
   "metadata": {},
   "source": [
    "South Africa is a multicultural society that is characterised by its rich linguistic diversity. Language is an indispensable tool that can be used to deepen democracy and also contribute to the social, cultural, intellectual, economic and political life of the South African society.\n",
    "\n",
    "The country is multilingual with 11 official languages, each of which is guaranteed equal status. Most South Africans are multilingual and able to speak at least two or more of the official languages.\n",
    "With such a multilingual population, it is only obvious that our systems and devices also communicate in multi-languages.\n",
    "\n",
    "In this challenge, you will take text which is in any of South Africa's 11 Official languages and identify which language the text is in. This is an example of NLP's Language Identification, the task of determining the natural language that a piece of text is written in."
   ]
  },
  {
   "cell_type": "markdown",
   "id": "ad4c11bf",
   "metadata": {},
   "source": [
    "## 1. Importing Packages"
   ]
  },
  {
   "cell_type": "markdown",
   "id": "99d07ef3",
   "metadata": {},
   "source": [
    "We start by `importing` relevant libraries and modules "
   ]
  },
  {
   "cell_type": "code",
   "execution_count": 1,
   "id": "063d4c66",
   "metadata": {},
   "outputs": [],
   "source": [
    "#importing the required libraries\n",
    "# Libraries for data loading, data manipulation and data visulisation\n",
    "#Libraries for data cleaning and preprocessing\n",
    "#Libraries for data preparation and model building\n",
    "import pandas as pd\n",
    "import numpy as np\n",
    "import re\n",
    "import seaborn as sns\n",
    "import matplotlib.pyplot as plt\n",
    "import warnings\n",
    "from sklearn.feature_extraction.text import CountVectorizer\n",
    "warnings.simplefilter(\"ignore\")\n",
    "\n",
    "\n",
    "from sklearn.model_selection import train_test_split\n",
    "\n",
    " \n",
    "from sklearn.metrics import accuracy_score, confusion_matrix, classification_report\n",
    "from sklearn.linear_model import LogisticRegression\n",
    "from sklearn.svm import LinearSVC\n",
    "from sklearn.naive_bayes import BernoulliNB\n",
    "from sklearn.ensemble import GradientBoostingClassifier\n",
    "from sklearn.ensemble import RandomForestClassifier\n",
    "from sklearn.tree import DecisionTreeClassifier\n",
    "from sklearn.svm import SVC\n",
    "from sklearn.linear_model import PassiveAggressiveClassifier,LogisticRegression\n",
    "\n",
    "from sklearn.feature_extraction.text import TfidfVectorizer"
   ]
  },
  {
   "cell_type": "markdown",
   "id": "b543993b",
   "metadata": {},
   "source": [
    "## 2. Loading the Data"
   ]
  },
  {
   "cell_type": "markdown",
   "id": "2e3d524b",
   "metadata": {},
   "source": [
    "We frist start by loading in our dataset, both the `training` and `testing` dataset are loaded as a pandas dataframe"
   ]
  },
  {
   "cell_type": "code",
   "execution_count": 2,
   "id": "406c5b56",
   "metadata": {},
   "outputs": [],
   "source": [
    "#load the training and test data set\n",
    "df_train=pd.read_csv('train_set.csv')\n",
    "df_test=pd.read_csv('test_set.csv')"
   ]
  },
  {
   "cell_type": "markdown",
   "id": "bdb8ad86",
   "metadata": {},
   "source": [
    "## 3. Exploratory Data Analysis (EDA)"
   ]
  },
  {
   "cell_type": "markdown",
   "id": "c818ae19",
   "metadata": {},
   "source": [
    "Exploratory Data Analysis (EDA) : After loading in our dataset, we first begin with the vital component which is the EDA, to better understand the dataset we are working with and to gain insight about the `features` and `labels` by performing `Univariate` or `Multivariate` , `Non-graphical` or `Graphical Analysis`\"\n",
    "\n",
    "We will take a quick look at the first few rows of the training and testing dataset to have an overview of our features and labels (using `pd.head()` method)"
   ]
  },
  {
   "cell_type": "code",
   "execution_count": 3,
   "id": "1b26c3b1",
   "metadata": {},
   "outputs": [
    {
     "data": {
      "text/html": [
       "<div>\n",
       "<style scoped>\n",
       "    .dataframe tbody tr th:only-of-type {\n",
       "        vertical-align: middle;\n",
       "    }\n",
       "\n",
       "    .dataframe tbody tr th {\n",
       "        vertical-align: top;\n",
       "    }\n",
       "\n",
       "    .dataframe thead th {\n",
       "        text-align: right;\n",
       "    }\n",
       "</style>\n",
       "<table border=\"1\" class=\"dataframe\">\n",
       "  <thead>\n",
       "    <tr style=\"text-align: right;\">\n",
       "      <th></th>\n",
       "      <th>lang_id</th>\n",
       "      <th>text</th>\n",
       "    </tr>\n",
       "  </thead>\n",
       "  <tbody>\n",
       "    <tr>\n",
       "      <th>0</th>\n",
       "      <td>xho</td>\n",
       "      <td>umgaqo-siseko wenza amalungiselelo kumaziko ax...</td>\n",
       "    </tr>\n",
       "    <tr>\n",
       "      <th>1</th>\n",
       "      <td>xho</td>\n",
       "      <td>i-dha iya kuba nobulumko bokubeka umsebenzi na...</td>\n",
       "    </tr>\n",
       "    <tr>\n",
       "      <th>2</th>\n",
       "      <td>eng</td>\n",
       "      <td>the province of kwazulu-natal department of tr...</td>\n",
       "    </tr>\n",
       "    <tr>\n",
       "      <th>3</th>\n",
       "      <td>nso</td>\n",
       "      <td>o netefatša gore o ba file dilo ka moka tše le...</td>\n",
       "    </tr>\n",
       "    <tr>\n",
       "      <th>4</th>\n",
       "      <td>ven</td>\n",
       "      <td>khomishini ya ndinganyiso ya mbeu yo ewa maana...</td>\n",
       "    </tr>\n",
       "  </tbody>\n",
       "</table>\n",
       "</div>"
      ],
      "text/plain": [
       "  lang_id                                               text\n",
       "0     xho  umgaqo-siseko wenza amalungiselelo kumaziko ax...\n",
       "1     xho  i-dha iya kuba nobulumko bokubeka umsebenzi na...\n",
       "2     eng  the province of kwazulu-natal department of tr...\n",
       "3     nso  o netefatša gore o ba file dilo ka moka tše le...\n",
       "4     ven  khomishini ya ndinganyiso ya mbeu yo ewa maana..."
      ]
     },
     "execution_count": 3,
     "metadata": {},
     "output_type": "execute_result"
    }
   ],
   "source": [
    "# five rows of the traing dataset\n",
    "df_train.head()"
   ]
  },
  {
   "cell_type": "code",
   "execution_count": 4,
   "id": "1e7c1d4c",
   "metadata": {},
   "outputs": [
    {
     "data": {
      "text/html": [
       "<div>\n",
       "<style scoped>\n",
       "    .dataframe tbody tr th:only-of-type {\n",
       "        vertical-align: middle;\n",
       "    }\n",
       "\n",
       "    .dataframe tbody tr th {\n",
       "        vertical-align: top;\n",
       "    }\n",
       "\n",
       "    .dataframe thead th {\n",
       "        text-align: right;\n",
       "    }\n",
       "</style>\n",
       "<table border=\"1\" class=\"dataframe\">\n",
       "  <thead>\n",
       "    <tr style=\"text-align: right;\">\n",
       "      <th></th>\n",
       "      <th>index</th>\n",
       "      <th>text</th>\n",
       "    </tr>\n",
       "  </thead>\n",
       "  <tbody>\n",
       "    <tr>\n",
       "      <th>0</th>\n",
       "      <td>1</td>\n",
       "      <td>Mmasepala, fa maemo a a kgethegileng a letlele...</td>\n",
       "    </tr>\n",
       "    <tr>\n",
       "      <th>1</th>\n",
       "      <td>2</td>\n",
       "      <td>Uzakwaziswa ngokufaneleko nakungafuneka eminye...</td>\n",
       "    </tr>\n",
       "    <tr>\n",
       "      <th>2</th>\n",
       "      <td>3</td>\n",
       "      <td>Tshivhumbeo tshi fana na ngano dza vhathu.</td>\n",
       "    </tr>\n",
       "    <tr>\n",
       "      <th>3</th>\n",
       "      <td>4</td>\n",
       "      <td>Kube inja nelikati betingevakala kutsi titsini...</td>\n",
       "    </tr>\n",
       "    <tr>\n",
       "      <th>4</th>\n",
       "      <td>5</td>\n",
       "      <td>Winste op buitelandse valuta.</td>\n",
       "    </tr>\n",
       "  </tbody>\n",
       "</table>\n",
       "</div>"
      ],
      "text/plain": [
       "   index                                               text\n",
       "0      1  Mmasepala, fa maemo a a kgethegileng a letlele...\n",
       "1      2  Uzakwaziswa ngokufaneleko nakungafuneka eminye...\n",
       "2      3         Tshivhumbeo tshi fana na ngano dza vhathu.\n",
       "3      4  Kube inja nelikati betingevakala kutsi titsini...\n",
       "4      5                      Winste op buitelandse valuta."
      ]
     },
     "execution_count": 4,
     "metadata": {},
     "output_type": "execute_result"
    }
   ],
   "source": [
    "# five rows of the test dataset\n",
    "df_test.head()"
   ]
  },
  {
   "cell_type": "code",
   "execution_count": 5,
   "id": "73d28380",
   "metadata": {},
   "outputs": [
    {
     "name": "stdout",
     "output_type": "stream",
     "text": [
      "The training dataset has 33000 rows and 2 columns\n"
     ]
    }
   ],
   "source": [
    "#check the shape of training dataframe\n",
    "df_train.shape\n",
    "print(\"The training dataset has {0} rows and {1} columns\".format(df_train.shape[0], df_train.shape[1]))"
   ]
  },
  {
   "cell_type": "code",
   "execution_count": 6,
   "id": "d3b574d8",
   "metadata": {},
   "outputs": [
    {
     "data": {
      "text/plain": [
       "1       1\n",
       "3818    1\n",
       "3794    1\n",
       "3793    1\n",
       "3792    1\n",
       "       ..\n",
       "1893    1\n",
       "1892    1\n",
       "1891    1\n",
       "1890    1\n",
       "5682    1\n",
       "Name: index, Length: 5682, dtype: int64"
      ]
     },
     "execution_count": 6,
     "metadata": {},
     "output_type": "execute_result"
    }
   ],
   "source": [
    "#check for unique values\n",
    "df_test[\"index\"].value_counts()"
   ]
  },
  {
   "cell_type": "markdown",
   "id": "8bf7f79e",
   "metadata": {},
   "source": [
    "Show the number of `languages` and the total number of `sentenses` in the dataset."
   ]
  },
  {
   "cell_type": "code",
   "execution_count": 7,
   "id": "8cfd6b26",
   "metadata": {},
   "outputs": [
    {
     "data": {
      "text/plain": [
       "xho    3000\n",
       "eng    3000\n",
       "nso    3000\n",
       "ven    3000\n",
       "tsn    3000\n",
       "nbl    3000\n",
       "zul    3000\n",
       "ssw    3000\n",
       "tso    3000\n",
       "sot    3000\n",
       "afr    3000\n",
       "Name: lang_id, dtype: int64"
      ]
     },
     "execution_count": 7,
     "metadata": {},
     "output_type": "execute_result"
    }
   ],
   "source": [
    "#check for unique values\n",
    "df_train[\"lang_id\"].value_counts()"
   ]
  },
  {
   "cell_type": "code",
   "execution_count": 16,
   "id": "95bc2fa8",
   "metadata": {},
   "outputs": [
    {
     "name": "stdout",
     "output_type": "stream",
     "text": [
      "<class 'pandas.core.frame.DataFrame'>\n",
      "RangeIndex: 33000 entries, 0 to 32999\n",
      "Data columns (total 2 columns):\n",
      " #   Column   Non-Null Count  Dtype \n",
      "---  ------   --------------  ----- \n",
      " 0   lang_id  33000 non-null  object\n",
      " 1   text     33000 non-null  object\n",
      "dtypes: object(2)\n",
      "memory usage: 515.8+ KB\n"
     ]
    }
   ],
   "source": [
    "#check the information of the dataframe\n",
    "df_train.info()"
   ]
  },
  {
   "cell_type": "code",
   "execution_count": 17,
   "id": "ff25efa0",
   "metadata": {},
   "outputs": [
    {
     "data": {
      "text/plain": [
       "0    umgaqo-siseko wenza amalungiselelo kumaziko ax...\n",
       "1    i-dha iya kuba nobulumko bokubeka umsebenzi na...\n",
       "2    the province of kwazulu-natal department of tr...\n",
       "3    o netefatša gore o ba file dilo ka moka tše le...\n",
       "4    khomishini ya ndinganyiso ya mbeu yo ewa maana...\n",
       "Name: text, dtype: object"
      ]
     },
     "execution_count": 17,
     "metadata": {},
     "output_type": "execute_result"
    }
   ],
   "source": [
    "# examining the stop words\n",
    "df_train['text'][0:5]"
   ]
  },
  {
   "cell_type": "code",
   "execution_count": 18,
   "id": "65055be6",
   "metadata": {},
   "outputs": [
    {
     "data": {
      "image/png": "[encoded data removed]",
      "text/plain": [
       "<Figure size 576x288 with 1 Axes>"
      ]
     },
     "metadata": {
      "needs_background": "light"
     },
     "output_type": "display_data"
    }
   ],
   "source": [
    "#the distribution of unique label values\n",
    "f, ax = plt.subplots(figsize=(8, 4))\n",
    "ax = sns.countplot(x=\"lang_id\", data=df_train)\n",
    "plt.show()"
   ]
  },
  {
   "cell_type": "markdown",
   "id": "dd2dd84f",
   "metadata": {},
   "source": [
    "## 4 Feature Engineering"
   ]
  },
  {
   "cell_type": "markdown",
   "id": "8c126462",
   "metadata": {},
   "source": [
    "In this Section we will be applying `feature engineering` to our dataset, we will try to enrich the dataset and if possible add some new features."
   ]
  },
  {
   "cell_type": "markdown",
   "id": "dce42d76",
   "metadata": {},
   "source": [
    "We will start by Classifying the `independent` and `dependent` variables"
   ]
  },
  {
   "cell_type": "code",
   "execution_count": 19,
   "id": "710e6078",
   "metadata": {},
   "outputs": [],
   "source": [
    "X = df_train[\"text\"] #text is an independent variable of the train data\n",
    "y = df_train[\"lang_id\"] #lang_id is an dependent variable of the train data\n",
    "X_tt = df_test['text'] #text is an independent variable of the test data"
   ]
  },
  {
   "cell_type": "markdown",
   "id": "39ac8c49",
   "metadata": {},
   "source": [
    "We are now preocessing our data by \n",
    "`Cleaning` our dataset to remove symbols that will determine the quality of our model."
   ]
  },
  {
   "cell_type": "code",
   "execution_count": 20,
   "id": "3b86cd94",
   "metadata": {},
   "outputs": [],
   "source": [
    "# creatin a list for appending the preprocessed text\n",
    "df_list = []\n",
    "# iterating through all the text\n",
    "for text in X:\n",
    "       # removing the symbols and numbers\n",
    "        text = re.sub(r'[!@#$(),n\"%^*?:;~`0-9]', ' ', text)\n",
    "        # converting the text to lower case\n",
    "        text = text.lower()\n",
    "        # appending to data_list\n",
    "        df_list.append(text)"
   ]
  },
  {
   "cell_type": "code",
   "execution_count": 21,
   "id": "43ef795a",
   "metadata": {},
   "outputs": [],
   "source": [
    "# creat a list for appending the preprocessed text in the text data set\n",
    "df_list1 = []\n",
    "# iterating through all the text\n",
    "for text in X_tt:\n",
    "       # removing the symbols and numbers\n",
    "        text = re.sub(r'[!@#$(),n\"%^*?:;~`0-9]', ' ', text)\n",
    "        text = re.sub(r'[[]]', ' ', text)\n",
    "        text = text.lower()\n",
    "        # appending to data_list\n",
    "        df_list1.append(text)"
   ]
  },
  {
   "cell_type": "markdown",
   "id": "90052939",
   "metadata": {},
   "source": [
    "### Bag of Words\n",
    "- We want Our model to take in numerical data Using `CountVectorizer` to convert our dataset from text to numerical form."
   ]
  },
  {
   "cell_type": "code",
   "execution_count": 22,
   "id": "6b37fcbc",
   "metadata": {},
   "outputs": [],
   "source": [
    "cv = CountVectorizer()\n",
    "X = cv.fit_transform(X)"
   ]
  },
  {
   "cell_type": "code",
   "execution_count": 23,
   "id": "1630b016",
   "metadata": {},
   "outputs": [
    {
     "data": {
      "text/plain": [
       "(33000, 141958)"
      ]
     },
     "execution_count": 23,
     "metadata": {},
     "output_type": "execute_result"
    }
   ],
   "source": [
    "#look at the shape\n",
    "X.shape "
   ]
  },
  {
   "cell_type": "markdown",
   "id": "fec2886e",
   "metadata": {},
   "source": [
    "We use `transform` on the test dataset because we have used the scaled paramaters learned from the train data to scale the test data"
   ]
  },
  {
   "cell_type": "code",
   "execution_count": 24,
   "id": "f22ce1f6",
   "metadata": {},
   "outputs": [
    {
     "data": {
      "text/plain": [
       "(5682, 141958)"
      ]
     },
     "execution_count": 24,
     "metadata": {},
     "output_type": "execute_result"
    }
   ],
   "source": [
    "# The test data is transformed using transform()\n",
    "X_tt = cv.transform(X_tt)\n",
    "X_tt.shape"
   ]
  },
  {
   "cell_type": "markdown",
   "id": "ac83c0fd",
   "metadata": {},
   "source": [
    "Train Test Splitting Creating the training set, for training the model"
   ]
  },
  {
   "cell_type": "code",
   "execution_count": 25,
   "id": "43083265",
   "metadata": {},
   "outputs": [],
   "source": [
    "x_train, x_test, y_train, y_test = train_test_split(X, y, test_size = 0.20, random_state=0)"
   ]
  },
  {
   "cell_type": "markdown",
   "id": "2b642530",
   "metadata": {},
   "source": [
    "### Model Training and Prediction"
   ]
  },
  {
   "cell_type": "markdown",
   "id": "71f5cc27",
   "metadata": {},
   "source": [
    "Here we train our model uisng different models from the training set and later predict the output for the test set using the `classification report`."
   ]
  },
  {
   "cell_type": "markdown",
   "id": "50a0812b",
   "metadata": {},
   "source": [
    "### Naive_Bayes "
   ]
  },
  {
   "cell_type": "code",
   "execution_count": 26,
   "id": "9c3138f2",
   "metadata": {},
   "outputs": [
    {
     "name": "stdout",
     "output_type": "stream",
     "text": [
      "Accuracy is : 0.9990909090909091\n",
      "Report is :               precision    recall  f1-score   support\n",
      "\n",
      "         afr       1.00      1.00      1.00       587\n",
      "         eng       0.99      1.00      1.00       574\n",
      "         nbl       1.00      1.00      1.00       613\n",
      "         nso       1.00      1.00      1.00       570\n",
      "         sot       1.00      1.00      1.00       600\n",
      "         ssw       1.00      1.00      1.00       624\n",
      "         tsn       1.00      1.00      1.00       581\n",
      "         tso       1.00      1.00      1.00       597\n",
      "         ven       1.00      1.00      1.00       599\n",
      "         xho       1.00      1.00      1.00       621\n",
      "         zul       1.00      1.00      1.00       634\n",
      "\n",
      "    accuracy                           1.00      6600\n",
      "   macro avg       1.00      1.00      1.00      6600\n",
      "weighted avg       1.00      1.00      1.00      6600\n",
      "\n"
     ]
    }
   ],
   "source": [
    "from sklearn.naive_bayes import MultinomialNB\n",
    "model = MultinomialNB()\n",
    "\n",
    "#fitting the Naive_Bayes model\n",
    "model.fit(x_train, y_train)\n",
    "\n",
    "#predicting the y labels\n",
    "y_pred1 = model.predict(x_test)\n",
    "\n",
    "#metrics reporting\n",
    "acc = accuracy_score(y_test, y_pred1)\n",
    "\n",
    "report = classification_report(y_test,y_pred1)\n",
    "\n",
    "print(\"Accuracy is :\",acc)\n",
    "#print(\"Matrix is :\",cm)\n",
    "print(\"Report is :\",report)"
   ]
  },
  {
   "cell_type": "markdown",
   "id": "229bea26",
   "metadata": {},
   "source": [
    "### Support Vector Classifier"
   ]
  },
  {
   "cell_type": "code",
   "execution_count": 27,
   "id": "58f67f63",
   "metadata": {},
   "outputs": [
    {
     "name": "stdout",
     "output_type": "stream",
     "text": [
      "Accuracy is : 0.9940909090909091\n",
      "Report is :               precision    recall  f1-score   support\n",
      "\n",
      "         afr       1.00      1.00      1.00       587\n",
      "         eng       1.00      1.00      1.00       574\n",
      "         nbl       0.99      0.98      0.98       613\n",
      "         nso       1.00      0.99      1.00       570\n",
      "         sot       1.00      0.99      1.00       600\n",
      "         ssw       0.99      1.00      1.00       624\n",
      "         tsn       0.99      1.00      1.00       581\n",
      "         tso       1.00      1.00      1.00       597\n",
      "         ven       1.00      1.00      1.00       599\n",
      "         xho       0.99      0.99      0.99       621\n",
      "         zul       0.97      0.98      0.98       634\n",
      "\n",
      "    accuracy                           0.99      6600\n",
      "   macro avg       0.99      0.99      0.99      6600\n",
      "weighted avg       0.99      0.99      0.99      6600\n",
      "\n"
     ]
    }
   ],
   "source": [
    "svc = SVC( kernel='rbf')\n",
    "svc.fit(x_train, y_train)\n",
    "y_pred4 = svc.predict(x_test)\n",
    "\n",
    "#metrics report\n",
    "acc = accuracy_score(y_test, y_pred4)\n",
    "report = classification_report(y_test,y_pred4)\n",
    "\n",
    "print(\"Accuracy is :\",acc)\n",
    "print(\"Report is :\",report)"
   ]
  },
  {
   "cell_type": "markdown",
   "id": "f1e49376",
   "metadata": {},
   "source": [
    "### Logistics Regression"
   ]
  },
  {
   "cell_type": "code",
   "execution_count": 28,
   "id": "e3ee86b8",
   "metadata": {},
   "outputs": [
    {
     "name": "stdout",
     "output_type": "stream",
     "text": [
      "Accuracy is : 0.9953030303030304\n",
      "Report is :               precision    recall  f1-score   support\n",
      "\n",
      "         afr       1.00      1.00      1.00       587\n",
      "         eng       1.00      1.00      1.00       574\n",
      "         nbl       0.99      0.99      0.99       613\n",
      "         nso       1.00      1.00      1.00       570\n",
      "         sot       1.00      0.99      1.00       600\n",
      "         ssw       0.99      1.00      0.99       624\n",
      "         tsn       1.00      1.00      1.00       581\n",
      "         tso       1.00      1.00      1.00       597\n",
      "         ven       1.00      1.00      1.00       599\n",
      "         xho       1.00      0.99      0.99       621\n",
      "         zul       0.98      0.98      0.98       634\n",
      "\n",
      "    accuracy                           1.00      6600\n",
      "   macro avg       1.00      1.00      1.00      6600\n",
      "weighted avg       1.00      1.00      1.00      6600\n",
      "\n"
     ]
    }
   ],
   "source": [
    "LRmodel = LogisticRegression(C = 2, max_iter = 1000, n_jobs=-1)# Creating a logistics regression\n",
    "#fit the train data\n",
    "LRmodel.fit(x_train, y_train)\n",
    "#predict y labels\n",
    "y_pred2 = LRmodel.predict(x_test)\n",
    "\n",
    "#metrics report\n",
    "acc = accuracy_score(y_test, y_pred2)\n",
    "\n",
    "report = classification_report(y_test,y_pred2)\n",
    "\n",
    "print(\"Accuracy is :\",acc)\n",
    "print(\"Report is :\",report)"
   ]
  },
  {
   "cell_type": "markdown",
   "id": "54c20aa8",
   "metadata": {},
   "source": [
    " ## 5 Model Evaluation"
   ]
  },
  {
   "cell_type": "code",
   "execution_count": 46,
   "id": "dfb3c1db",
   "metadata": {},
   "outputs": [],
   "source": [
    "from sklearn.metrics import accuracy_score, confusion_matrix, classification_report"
   ]
  },
  {
   "cell_type": "code",
   "execution_count": 51,
   "id": "c850e1a3",
   "metadata": {},
   "outputs": [
    {
     "name": "stdout",
     "output_type": "stream",
     "text": [
      "Naive_Bayes Metric results\n",
      "accuracy of the model is 0.9990909090909091\n"
     ]
    }
   ],
   "source": [
    "# Check the performance of our Naive_Bayes Model.\n",
    "print('Naive_Bayes Metric results')\n",
    "print(\"accuracy of the model is {}\".format(model.score(x_test, y_test)))\n"
   ]
  },
  {
   "cell_type": "code",
   "execution_count": 49,
   "id": "4128ac29",
   "metadata": {},
   "outputs": [
    {
     "name": "stdout",
     "output_type": "stream",
     "text": [
      "LogisticRegression Metric results\n",
      "accuracy of the model is 0.9953030303030304\n"
     ]
    }
   ],
   "source": [
    "# Check the performance of our Logistic Regression Model.\n",
    "print('LogisticRegression Metric results')\n",
    "print(\"accuracy of the model is {}\".format(LRmodel.score(x_test, y_test)))\n"
   ]
  },
  {
   "cell_type": "code",
   "execution_count": 50,
   "id": "aca4efb5",
   "metadata": {},
   "outputs": [
    {
     "name": "stdout",
     "output_type": "stream",
     "text": [
      "Support Vector Classifier Metric results\n",
      "accuracy of the model is 0.9940909090909091\n"
     ]
    }
   ],
   "source": [
    "# Check the performance of our Support Vector Classifier.\n",
    "print('Support Vector Classifier Metric results')\n",
    "print(\"accuracy of the model is {}\".format(svc.score(x_test, y_test)))\n"
   ]
  },
  {
   "cell_type": "markdown",
   "id": "1301398f",
   "metadata": {},
   "source": [
    "## Predictions with the test dataset"
   ]
  },
  {
   "cell_type": "code",
   "execution_count": null,
   "id": "c0926264",
   "metadata": {},
   "outputs": [],
   "source": [
    "X_tt.shape"
   ]
  },
  {
   "cell_type": "code",
   "execution_count": null,
   "id": "3ee6c1b0",
   "metadata": {},
   "outputs": [],
   "source": [
    "text_pred= model.predict(X_tt)"
   ]
  },
  {
   "cell_type": "code",
   "execution_count": null,
   "id": "fcfc2332",
   "metadata": {},
   "outputs": [],
   "source": [
    "#The following code is used to save the predictions for kaggle.\n",
    "\n",
    "kaggle_bnb = df_test[['index']]\n",
    "kaggle_bnb['lang_id']= text_pred\n",
    "kaggle_bnb.to_csv(sample_submission.csv, index = None)"
   ]
  },
  {
   "cell_type": "code",
   "execution_count": null,
   "id": "91643daa",
   "metadata": {},
   "outputs": [],
   "source": [
    "import pandas as pd"
   ]
  },
  {
   "cell_type": "code",
   "execution_count": null,
   "id": "12816150",
   "metadata": {},
   "outputs": [],
   "source": [
    "df_sub=pd.read_csv('sample_submission.csv')\n",
    "df_sub.head()"
   ]
  },
  {
   "cell_type": "markdown",
   "id": "724b4df3",
   "metadata": {},
   "source": [
    "# 6 Conclusion"
   ]
  },
  {
   "cell_type": "markdown",
   "id": "d1447f19",
   "metadata": {},
   "source": [
    "We went through  feature engineering to improve the data, train a Machine Learning Model and arrive at a model with a good performance to better predict unseen data . We noticed that the Multinormal Naive Bayes has proven to be a better model in language, hence more accurate results were produced.\n"
   ]
  },
  {
   "cell_type": "code",
   "execution_count": null,
   "id": "eed56df3",
   "metadata": {},
   "outputs": [],
   "source": []
  }
 ],
 "metadata": {
  "kernelspec": {
   "display_name": "Python 3 (ipykernel)",
   "language": "python",
   "name": "python3"
  },
  "language_info": {
   "codemirror_mode": {
    "name": "ipython",
    "version": 3
   },
   "file_extension": ".py",
   "mimetype": "text/x-python",
   "name": "python",
   "nbconvert_exporter": "python",
   "pygments_lexer": "ipython3",
   "version": "3.9.7"
  }
 },
 "nbformat": 4,
 "nbformat_minor": 5
}
